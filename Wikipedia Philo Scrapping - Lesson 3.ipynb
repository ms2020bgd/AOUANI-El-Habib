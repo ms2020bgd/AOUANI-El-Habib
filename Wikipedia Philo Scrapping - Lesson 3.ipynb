{
 "cells": [
  {
   "cell_type": "code",
   "execution_count": 1,
   "metadata": {},
   "outputs": [],
   "source": [
    "from bs4 import BeautifulSoup\n",
    "import requests\n",
    "import time"
   ]
  },
  {
   "cell_type": "code",
   "execution_count": 2,
   "metadata": {},
   "outputs": [],
   "source": [
    "def get_first_link(URL, init = 'https://fr.wikipedia.org'):\n",
    "    req = requests.get(init + URL)\n",
    "    soup = BeautifulSoup(req.text, \"html.parser\")\n",
    "    st = soup.find('div', class_=\"mw-parser-output\").find_all('p', recursive=False)[0].find_all('a', recursive=False)\n",
    "    if(\"Wikip\" in URL or len(st)==0):\n",
    "        st = soup.find('div', class_=\"mw-parser-output\").find_all('p', recursive=False)[1].find_all('a', recursive=False)[0].attrs['href']\n",
    "    elif(len(st)!=0):\n",
    "        st = soup.find('div', class_=\"mw-parser-output\").find_all('p', recursive=False)[0].find_all('a', recursive=False)[0].attrs['href']\n",
    "    return st"
   ]
  },
  {
   "cell_type": "code",
   "execution_count": 7,
   "metadata": {},
   "outputs": [],
   "source": [
    "def looping(link1):\n",
    "    i = 0\n",
    "    while \"/wiki/Langue\" != link1:\n",
    "        print(get_first_link(link1))\n",
    "        i = i + 1\n",
    "        print(i)\n",
    "        link1 = get_first_link(link1)\n",
    "    return link1"
   ]
  },
  {
   "cell_type": "code",
   "execution_count": 8,
   "metadata": {},
   "outputs": [
    {
     "name": "stdout",
     "output_type": "stream",
     "text": [
      "/wiki/Encyclop%C3%A9die\n",
      "1\n",
      "/wiki/Livre_(document)\n",
      "2\n",
      "/wiki/Document\n",
      "3\n",
      "/wiki/Signe\n",
      "4\n",
      "/wiki/Objet\n",
      "5\n",
      "/wiki/Discipline_(sp%C3%A9cialit%C3%A9)\n",
      "6\n",
      "/wiki/Savoir\n",
      "7\n",
      "/wiki/Connaissance\n",
      "8\n",
      "/wiki/Notion\n",
      "9\n",
      "/wiki/Esprit\n",
      "10\n",
      "/wiki/Ph%C3%A9nom%C3%A8ne\n",
      "11\n",
      "/wiki/Chose_(philosophie)\n",
      "12\n",
      "/wiki/Latin\n",
      "13\n",
      "/wiki/Langues_italiques\n",
      "14\n",
      "/wiki/Famille_de_langues\n",
      "15\n",
      "/wiki/Langue\n",
      "16\n"
     ]
    },
    {
     "data": {
      "text/plain": [
       "'/wiki/Langue'"
      ]
     },
     "execution_count": 8,
     "metadata": {},
     "output_type": "execute_result"
    }
   ],
   "source": [
    "URL = \"/wiki/Wikip%C3%A9dia\"\n",
    "looping(URL)"
   ]
  },
  {
   "cell_type": "code",
   "execution_count": null,
   "metadata": {},
   "outputs": [],
   "source": []
  }
 ],
 "metadata": {
  "kernelspec": {
   "display_name": "Python 3",
   "language": "python",
   "name": "python3"
  },
  "language_info": {
   "codemirror_mode": {
    "name": "ipython",
    "version": 3
   },
   "file_extension": ".py",
   "mimetype": "text/x-python",
   "name": "python",
   "nbconvert_exporter": "python",
   "pygments_lexer": "ipython3",
   "version": "3.7.4"
  }
 },
 "nbformat": 4,
 "nbformat_minor": 2
}
