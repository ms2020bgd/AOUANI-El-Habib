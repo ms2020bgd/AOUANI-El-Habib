{
 "cells": [
  {
   "cell_type": "code",
   "execution_count": 3,
   "metadata": {},
   "outputs": [
    {
     "name": "stdout",
     "output_type": "stream",
     "text": [
      "heyheyheyheyhey\n"
     ]
    }
   ],
   "source": [
    "def string_times(string, n):\n",
    "    return(string * n)\n",
    "\n",
    "print(string_times(\"hey\",5))"
   ]
  },
  {
   "cell_type": "code",
   "execution_count": 6,
   "metadata": {},
   "outputs": [
    {
     "name": "stdout",
     "output_type": "stream",
     "text": [
      "False\n"
     ]
    }
   ],
   "source": [
    "# Write a function which returns True if a year is a leap year.\n",
    "# A year is leap year if:\n",
    "# - it is divisible by 4 AND indivisible by 100\n",
    "# or if:\n",
    "# - it is divisible by 400\n",
    "def is_leap_year(year):\n",
    "    return ((year % 4 == 0)&(year % 100 != 0))or(year % 400 == 0)\n",
    "\n",
    "print(is_leap_year(2018))"
   ]
  },
  {
   "cell_type": "code",
   "execution_count": 21,
   "metadata": {},
   "outputs": [
    {
     "name": "stdout",
     "output_type": "stream",
     "text": [
      "True\n"
     ]
    }
   ],
   "source": [
    "# Given a list of ints, return True if one of the first 4 elements\n",
    "# in the array is a 9. The list length may be less than 4.\n",
    "def array_front9(nums):\n",
    "    if(len(nums) < 4):\n",
    "        return 9 in nums[:len(nums)]\n",
    "    else:\n",
    "        return 9 in nums[:4]\n",
    "\n",
    "print(array_front9([1,2,3,9,9,8]))"
   ]
  },
  {
   "cell_type": "code",
   "execution_count": 24,
   "metadata": {},
   "outputs": [
    {
     "name": "stdout",
     "output_type": "stream",
     "text": [
      "[1, 9, 64, 81, 36]\n"
     ]
    }
   ],
   "source": [
    "# Given a list of ints, return the list of their square root.\n",
    "def list_sqrt(nums):\n",
    "    num = []\n",
    "    for i in nums:\n",
    "        i = i**2\n",
    "        num.append(i)\n",
    "    return num\n",
    "\n",
    "print(list_sqrt([1,3,8,9,6]))"
   ]
  },
  {
   "cell_type": "code",
   "execution_count": 27,
   "metadata": {},
   "outputs": [
    {
     "name": "stdout",
     "output_type": "stream",
     "text": [
      "{'j': 1, 'e': 2, ' ': 2, 'v': 1, 'o': 1, 'u': 1, 's': 1, 'a': 1, 'i': 1, 'm': 1}\n"
     ]
    }
   ],
   "source": [
    "# Write a function which return a dict containing the number of time each letter\n",
    "# is present in the given text.\n",
    "def occurences(text):\n",
    "    dict = {}\n",
    "    for i in text:\n",
    "        dict[i]=text.count(i)\n",
    "    return dict\n",
    "\n",
    "g = \"je vous aime\"\n",
    "print(occurences(g))"
   ]
  },
  {
   "cell_type": "code",
   "execution_count": 31,
   "metadata": {},
   "outputs": [
    {
     "name": "stdout",
     "output_type": "stream",
     "text": [
      "{'Hello': 5, 'tout': 4, 'le': 2, 'monde,': 6, 'ici': 3, 'la': 2, 'Terre,': 6, 'nous': 4, 'apprettons': 10, 'à': 1, 'vous': 4, 'envahir': 7}\n"
     ]
    }
   ],
   "source": [
    "# Write a function that maps a list of words into a list of\n",
    "# integers representing the lengths of the corresponding words.\n",
    "def length_words(words):\n",
    "    dict = {}\n",
    "    for i in words.split(' '):\n",
    "        dict[i]=len(i)\n",
    "    return dict\n",
    "\n",
    "words = \"Hello tout le monde, ici la Terre, nous nous apprettons à vous envahir\"\n",
    "print(length_words(words))"
   ]
  },
  {
   "cell_type": "code",
   "execution_count": 33,
   "metadata": {},
   "outputs": [
    {
     "name": "stdout",
     "output_type": "stream",
     "text": [
      "['1', '2', '3', '4', '5', '5', '5', '3']\n"
     ]
    }
   ],
   "source": [
    "# Write a function that takes a number and returns a list of its digits.\n",
    "def number_to_digits(number):\n",
    "    liste = []\n",
    "    for i in str(number):\n",
    "        liste.append(i)\n",
    "    return liste\n",
    "\n",
    "number = 12345553\n",
    "print(number_to_digits(number))"
   ]
  },
  {
   "cell_type": "code",
   "execution_count": 46,
   "metadata": {},
   "outputs": [
    {
     "name": "stdout",
     "output_type": "stream",
     "text": [
      "['bonjour', 'je', \"m'appelle\", 'Habib']\n",
      "onjourbay ejay 'appellemay abibHay\n"
     ]
    }
   ],
   "source": [
    "# Write a function that translates a text from english to Pig Latin.\n",
    "# English is translated to Pig Latin by taking the first letter of every word,\n",
    "# moving it to the end of the word, and adding 'ay'.\n",
    "def pig_latin(text):\n",
    "    mesMots = text.split(' ')\n",
    "    print(mesMots)\n",
    "    crypte = []\n",
    "    j = 0\n",
    "    for i in mesMots:\n",
    "        crypte.append(i[1:] + i[:1] + \"ay\")\n",
    "    return ' '.join(crypte)\n",
    "\n",
    "print(pig_latin(\"bonjour je m'appelle Habib\"))"
   ]
  },
  {
   "cell_type": "code",
   "execution_count": 57,
   "metadata": {},
   "outputs": [
    {
     "name": "stdout",
     "output_type": "stream",
     "text": [
      "1\n",
      "2\n",
      "Fizz\n",
      "4\n",
      "Buzz\n",
      "Fizz\n",
      "7\n",
      "8\n",
      "Fizz\n",
      "Buzz\n",
      "11\n",
      "Fizz\n",
      "13\n",
      "14\n",
      "Fizzbuzz\n",
      "16\n",
      "17\n",
      "Fizz\n",
      "19\n",
      "Buzz\n",
      "Fizz\n",
      "22\n",
      "23\n",
      "Fizz\n",
      "Buzz\n",
      "26\n",
      "Fizz\n",
      "28\n",
      "29\n",
      "Fizzbuzz\n",
      "31\n",
      "32\n",
      "Fizz\n",
      "34\n",
      "Buzz\n",
      "Fizz\n",
      "37\n",
      "38\n",
      "Fizz\n",
      "Buzz\n",
      "41\n",
      "Fizz\n",
      "43\n",
      "44\n",
      "Fizzbuzz\n",
      "46\n",
      "47\n",
      "Fizz\n",
      "49\n",
      "Buzz\n",
      "Fizz\n",
      "52\n",
      "53\n",
      "Fizz\n",
      "Buzz\n",
      "56\n",
      "Fizz\n",
      "58\n",
      "59\n",
      "Fizzbuzz\n",
      "61\n",
      "62\n",
      "Fizz\n",
      "64\n",
      "Buzz\n",
      "Fizz\n",
      "67\n",
      "68\n",
      "Fizz\n",
      "Buzz\n",
      "71\n",
      "Fizz\n",
      "73\n",
      "74\n",
      "Fizzbuzz\n",
      "76\n",
      "77\n",
      "Fizz\n",
      "79\n",
      "Buzz\n",
      "Fizz\n",
      "82\n",
      "83\n",
      "Fizz\n",
      "Buzz\n",
      "86\n",
      "Fizz\n",
      "88\n",
      "89\n",
      "Fizzbuzz\n",
      "91\n",
      "92\n",
      "Fizz\n",
      "94\n",
      "Buzz\n",
      "Fizz\n",
      "97\n",
      "98\n",
      "Fizz\n",
      "Buzz\n",
      "None\n"
     ]
    }
   ],
   "source": [
    "# Write a function which prints numbers from 1 to 100,\n",
    "# but which prints \"Fizz\" instead of multiple of 3,\n",
    "# \"Buzz\" instead of multiple of 5,\n",
    "# and \"FizzBuzz\" instead of multiple of 15\n",
    "def fizzbuzz():\n",
    "    for i in range(1,101):\n",
    "        if(i%15 == 0): \n",
    "            print(\"Fizzbuzz\")\n",
    "        elif(i%5 == 0): \n",
    "            print(\"Buzz\")\n",
    "        elif(i%3 == 0): \n",
    "            print(\"Fizz\")\n",
    "        else:\n",
    "            print(i)\n",
    "\n",
    "print(fizzbuzz())"
   ]
  },
  {
   "cell_type": "code",
   "execution_count": 187,
   "metadata": {},
   "outputs": [
    {
     "name": "stdout",
     "output_type": "stream",
     "text": [
      "{0: {'country': 'FR', 'name': 'Paris', 'date': '2019-09-25 18:00:00', 'temp': 289.15}, 1: {'country': 'FR', 'name': 'Paris', 'date': '2019-09-25 21:00:00', 'temp': 289.62}, 2: {'country': 'GB', 'name': 'London', 'date': '2019-09-25 18:00:00', 'temp': 289.52}, 3: {'country': 'GB', 'name': 'London', 'date': '2019-09-25 21:00:00', 'temp': 287.78}}\n"
     ]
    }
   ],
   "source": [
    "weather_data = {\n",
    "    \"Paris\": {\n",
    "        \"weather_list\": [\n",
    "            {\"dt\": 1569434400,\n",
    "            \"main\": {\"temp\": 289.15, \"humidity\": 76},\n",
    "            \"dt_txt\": \"2019-09-25 18:00:00\"}, \n",
    "            {\"dt\": 1569445200,\n",
    "            \"main\": {\"temp\": 289.62,\"humidity\": 87},\n",
    "            \"dt_txt\": \"2019-09-25 21:00:00\"}\n",
    "        ],\n",
    "        \"metadata\": {\n",
    "            \"coord\": {\"lat\": 48.8566, \"lon\": 2.3515},\n",
    "            \"country\": \"FR\",\n",
    "        }\n",
    "    },\n",
    "    \"London\": {\n",
    "        \"weather_list\": [{\n",
    "            \"dt\": 1569434400,\n",
    "            \"main\": {\"temp\": 289.52, \"humidity\": 77},\n",
    "            \"dt_txt\": \"2019-09-25 18:00:00\"\n",
    "        }, {\n",
    "            \"dt\": 1569445200,\n",
    "            \"main\": {\"temp\": 287.78, \"humidity\": 86},\n",
    "            \"dt_txt\": \"2019-09-25 21:00:00\"\n",
    "        }],\n",
    "        \"metadata\": {\n",
    "            \"coord\": {\"lat\": 51.5073, \"lon\": -0.1277},\n",
    "            \"country\": \"GB\",\n",
    "        }\n",
    "    }\n",
    "}\n",
    "list(weather_data) # accès au nom de la ville\n",
    "weather_data[\"Paris\"][\"metadata\"][\"country\"]#accès au pays\n",
    "weather_data[\"Paris\"][\"weather_list\"][1][\"dt_txt\"]#accès à la date, \n",
    "# boucler sur weather_list\n",
    "weather_data[\"Paris\"][\"weather_list\"][1][\"main\"][\"temp\"]\n",
    "\n",
    "dict = {}\n",
    "k = 0\n",
    "\n",
    "for i in list(weather_data):\n",
    "    j = 0\n",
    "    while j < len(weather_data[i][\"weather_list\"]):\n",
    "        dict[k] = {}\n",
    "        dict[k][\"country\"] = weather_data[i][\"metadata\"][\"country\"]\n",
    "        dict[k][\"name\"] = i\n",
    "        dict[k][\"date\"] = weather_data[i][\"weather_list\"][j][\"dt_txt\"]\n",
    "        dict[k][\"temp\"] = weather_data[i][\"weather_list\"][j][\"main\"][\"temp\"]\n",
    "        j = j + 1\n",
    "        k = k + 1\n",
    "\n",
    "print(dict)"
   ]
  },
  {
   "cell_type": "code",
   "execution_count": null,
   "metadata": {},
   "outputs": [],
   "source": [
    "# Given the above data, write a function which return a list of dict,\n",
    "# where each dict contains these fields:\n",
    "# - name (str): the city name\n",
    "# - country (str): the city country\n",
    "# - date (str): the date\n",
    "# - temp (float): the temperature in °celsius (not °kelvin)"
   ]
  }
 ],
 "metadata": {
  "kernelspec": {
   "display_name": "Python 3",
   "language": "python",
   "name": "python3"
  },
  "language_info": {
   "codemirror_mode": {
    "name": "ipython",
    "version": 3
   },
   "file_extension": ".py",
   "mimetype": "text/x-python",
   "name": "python",
   "nbconvert_exporter": "python",
   "pygments_lexer": "ipython3",
   "version": "3.7.3"
  }
 },
 "nbformat": 4,
 "nbformat_minor": 2
}
